{
 "cells": [
  {
   "cell_type": "markdown",
   "id": "9378ff62",
   "metadata": {},
   "source": [
    "Para descargar el archivo se debe tener configuradas las variables de entorno y se debe tener permisos de escritura sobre la carpeta destino"
   ]
  },
  {
   "cell_type": "code",
   "execution_count": 1,
   "id": "e7250836",
   "metadata": {},
   "outputs": [],
   "source": [
    "import boto3\n",
    "from botocore.exceptions import NoCredentialsError"
   ]
  },
  {
   "cell_type": "code",
   "execution_count": 2,
   "id": "002c4f4b",
   "metadata": {},
   "outputs": [],
   "source": [
    "local_path = \"C:/Users/user/Documents/Archivo Ejemplo/\"\n",
    "bucket = \"my-bucket\"\n",
    "s3_path = \"Fuentes/Excel/Prueba Ruta/Excel en AWS.xlsx\""
   ]
  },
  {
   "cell_type": "code",
   "execution_count": 3,
   "id": "f01ea146",
   "metadata": {},
   "outputs": [
    {
     "name": "stdout",
     "output_type": "stream",
     "text": [
      "Credenciales Erróneas\n"
     ]
    }
   ],
   "source": [
    "s3 = boto3.client('s3')\n",
    "try:\n",
    "    s3.download_file(bucket, s3_path, local_path)\n",
    "    print(\"Archivo subido exitosamente\")\n",
    "except NoCredentialsError:\n",
    "    print(\"Credenciales Erróneas\")\n",
    "    "
   ]
  }
 ],
 "metadata": {
  "kernelspec": {
   "display_name": "Python 3",
   "language": "python",
   "name": "python3"
  },
  "language_info": {
   "codemirror_mode": {
    "name": "ipython",
    "version": 3
   },
   "file_extension": ".py",
   "mimetype": "text/x-python",
   "name": "python",
   "nbconvert_exporter": "python",
   "pygments_lexer": "ipython3",
   "version": "3.8.8"
  }
 },
 "nbformat": 4,
 "nbformat_minor": 5
}
